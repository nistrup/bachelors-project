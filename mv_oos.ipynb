{
 "cells": [
  {
   "cell_type": "code",
   "execution_count": 1,
   "metadata": {},
   "outputs": [],
   "source": [
    "# Import af nødvendige packages\n",
    "import quandl\n",
    "import pandas as pd\n",
    "import numpy as np\n",
    "import matplotlib.pyplot as plt"
   ]
  },
  {
   "cell_type": "code",
   "execution_count": 2,
   "metadata": {},
   "outputs": [],
   "source": [
    "\"\"\" SETTINGS \"\"\"\n",
    "source = 'csv' # quandl eller csv\n",
    "data_interval = 'monthly' # daily, monthy eller yearly - Hvis Quandl = 'daily'\n",
    "selected = ['SMB', 'HML', 'Mkt-RF'] # Angiv ønskede aktiver fra Quandl eller kolonner fra CSV-ark\n",
    "\n",
    "# Hvis CVS:\n",
    "file_name = 'F-F_Research_Data_Factors.CSV' # navn og file-exstention på data\n",
    "\n",
    "# Hvis Quandl\n",
    "date_range = ['2014-1-1', '2016-12-31'] # dato fra og med - dato til og med, format YYYY-MM-DD"
   ]
  },
  {
   "cell_type": "code",
   "execution_count": 3,
   "metadata": {},
   "outputs": [
    {
     "data": {
      "text/html": [
       "<div>\n",
       "<style scoped>\n",
       "    .dataframe tbody tr th:only-of-type {\n",
       "        vertical-align: middle;\n",
       "    }\n",
       "\n",
       "    .dataframe tbody tr th {\n",
       "        vertical-align: top;\n",
       "    }\n",
       "\n",
       "    .dataframe thead th {\n",
       "        text-align: right;\n",
       "    }\n",
       "</style>\n",
       "<table border=\"1\" class=\"dataframe\">\n",
       "  <thead>\n",
       "    <tr style=\"text-align: right;\">\n",
       "      <th></th>\n",
       "      <th>Mkt-RF</th>\n",
       "      <th>SMB</th>\n",
       "      <th>HML</th>\n",
       "    </tr>\n",
       "    <tr>\n",
       "      <th>date</th>\n",
       "      <th></th>\n",
       "      <th></th>\n",
       "      <th></th>\n",
       "    </tr>\n",
       "  </thead>\n",
       "  <tbody>\n",
       "    <tr>\n",
       "      <th>196307</th>\n",
       "      <td>-0.0039</td>\n",
       "      <td>-0.0055</td>\n",
       "      <td>-0.0081</td>\n",
       "    </tr>\n",
       "    <tr>\n",
       "      <th>196308</th>\n",
       "      <td>0.0507</td>\n",
       "      <td>-0.0095</td>\n",
       "      <td>0.0165</td>\n",
       "    </tr>\n",
       "    <tr>\n",
       "      <th>196309</th>\n",
       "      <td>-0.0157</td>\n",
       "      <td>-0.0030</td>\n",
       "      <td>0.0019</td>\n",
       "    </tr>\n",
       "    <tr>\n",
       "      <th>196310</th>\n",
       "      <td>0.0253</td>\n",
       "      <td>-0.0054</td>\n",
       "      <td>-0.0009</td>\n",
       "    </tr>\n",
       "    <tr>\n",
       "      <th>196311</th>\n",
       "      <td>-0.0085</td>\n",
       "      <td>-0.0113</td>\n",
       "      <td>0.0171</td>\n",
       "    </tr>\n",
       "  </tbody>\n",
       "</table>\n",
       "</div>"
      ],
      "text/plain": [
       "        Mkt-RF     SMB     HML\n",
       "date                          \n",
       "196307 -0.0039 -0.0055 -0.0081\n",
       "196308  0.0507 -0.0095  0.0165\n",
       "196309 -0.0157 -0.0030  0.0019\n",
       "196310  0.0253 -0.0054 -0.0009\n",
       "196311 -0.0085 -0.0113  0.0171"
      ]
     },
     "execution_count": 3,
     "metadata": {},
     "output_type": "execute_result"
    }
   ],
   "source": [
    "# Træk af data fra Quandl\n",
    "if source == 'quandl':\n",
    "    quandl.ApiConfig.api_key = \"yTPaspmH6wqs9rAdSdmk\"\n",
    "    data = quandl.get_table('WIKI/PRICES', ticker = selected, qopts = {'columns': ['date', 'ticker', 'adj_close']},\n",
    "                            date = {'gte': date_range[0], 'lte': date_range[1]}, paginate=True)\n",
    "    clean = data.set_index('date')\n",
    "    table = clean.pivot(columns='ticker')\n",
    "    returns_data = table.pct_change()\n",
    "    \n",
    "# Træk af data fra CSV-fil (allerede procent-vis ændring)\n",
    "elif source == 'csv':\n",
    "    data = pd.read_csv(file_name, delimiter = ',', header = 0, index_col = 'date', usecols = ['date'] + selected) / 100\n",
    "    returns_data = data\n",
    "\n",
    "actives = list(returns_data.columns.values)\n",
    "returns_data.head() # Eksempel på den procentvise ændring"
   ]
  },
  {
   "cell_type": "code",
   "execution_count": 4,
   "metadata": {},
   "outputs": [],
   "source": [
    "port_returns = []\n",
    "port_volatility = []\n",
    "sharpe_ratio = []\n",
    "stock_weights = []"
   ]
  },
  {
   "cell_type": "code",
   "execution_count": 5,
   "metadata": {},
   "outputs": [],
   "source": [
    "# simulerer 1/N portfølje fra 1963-07 til 2004-11 som rollover med 60 måneders interval:\n",
    "for month in range(0, len(returns_data) - 59):\n",
    "    \n",
    "    # Danner nyt data interval, returns og cov-matrix for hvert interval\n",
    "    new_returns_data = returns_data[month:month + 59]\n",
    "    returns_monthly = new_returns_data\n",
    "    returns_mean = returns_monthly.mean()\n",
    "    cov_matrix = returns_monthly.cov()\n",
    "    \n",
    "    # udregner profit, volatilitet og sharpe\n",
    "    tl = np.dot(np.linalg.inv(cov_matrix), np.ones(3))\n",
    "    nl = np.dot(np.ones(3), np.dot(np.linalg.inv(cov_matrix), np.ones(3)))\n",
    "    weights = tl / nl\n",
    "    \n",
    "    # udregner afkast for måned T + 1 med de udregnede optimale vægte\n",
    "    returns = np.dot(weights, returns_data[month + 60:month + 61].mean())\n",
    "    volatility = np.sqrt(np.dot(weights.T, np.dot(cov_matrix, weights)))\n",
    "    sharpe = returns / volatility\n",
    "\n",
    "    # indsætter overstående udregninger i vektorerne\n",
    "    sharpe_ratio.append(sharpe)\n",
    "    port_returns.append(returns)\n",
    "    port_volatility.append(volatility)\n",
    "    stock_weights.append(weights)"
   ]
  },
  {
   "cell_type": "code",
   "execution_count": 6,
   "metadata": {},
   "outputs": [],
   "source": [
    "# definerer portfolier som en sammensætning af overstående udregninger\n",
    "portfolio = {'Returns': port_returns,\n",
    "             'Volatility': port_volatility,\n",
    "             'Sharpe Ratio': sharpe_ratio}"
   ]
  },
  {
   "cell_type": "code",
   "execution_count": 7,
   "metadata": {},
   "outputs": [],
   "source": [
    "# definerer de enkelte vægte af de valgte aktiver, HINT: de er 0.33 alle sammen da det er 1/N\n",
    "for i in range(len((actives))):\n",
    "    symbol = actives[i]\n",
    "    portfolio[symbol+' Weight'] = [Weight[i] for Weight in stock_weights]"
   ]
  },
  {
   "cell_type": "code",
   "execution_count": 8,
   "metadata": {},
   "outputs": [
    {
     "data": {
      "text/html": [
       "<div>\n",
       "<style scoped>\n",
       "    .dataframe tbody tr th:only-of-type {\n",
       "        vertical-align: middle;\n",
       "    }\n",
       "\n",
       "    .dataframe tbody tr th {\n",
       "        vertical-align: top;\n",
       "    }\n",
       "\n",
       "    .dataframe thead th {\n",
       "        text-align: right;\n",
       "    }\n",
       "</style>\n",
       "<table border=\"1\" class=\"dataframe\">\n",
       "  <thead>\n",
       "    <tr style=\"text-align: right;\">\n",
       "      <th></th>\n",
       "      <th>Returns</th>\n",
       "      <th>Volatility</th>\n",
       "      <th>Sharpe Ratio</th>\n",
       "      <th>Mkt-RF Weight</th>\n",
       "      <th>SMB Weight</th>\n",
       "      <th>HML Weight</th>\n",
       "    </tr>\n",
       "  </thead>\n",
       "  <tbody>\n",
       "    <tr>\n",
       "      <th>0</th>\n",
       "      <td>0.030255</td>\n",
       "      <td>0.014479</td>\n",
       "      <td>2.089524</td>\n",
       "      <td>0.107860</td>\n",
       "      <td>0.231571</td>\n",
       "      <td>0.660569</td>\n",
       "    </tr>\n",
       "    <tr>\n",
       "      <th>1</th>\n",
       "      <td>0.013485</td>\n",
       "      <td>0.014389</td>\n",
       "      <td>0.937169</td>\n",
       "      <td>0.106999</td>\n",
       "      <td>0.232948</td>\n",
       "      <td>0.660053</td>\n",
       "    </tr>\n",
       "    <tr>\n",
       "      <th>2</th>\n",
       "      <td>0.013528</td>\n",
       "      <td>0.014664</td>\n",
       "      <td>0.922489</td>\n",
       "      <td>0.137697</td>\n",
       "      <td>0.234478</td>\n",
       "      <td>0.627825</td>\n",
       "    </tr>\n",
       "    <tr>\n",
       "      <th>3</th>\n",
       "      <td>0.017594</td>\n",
       "      <td>0.014667</td>\n",
       "      <td>1.199595</td>\n",
       "      <td>0.140273</td>\n",
       "      <td>0.233366</td>\n",
       "      <td>0.626361</td>\n",
       "    </tr>\n",
       "    <tr>\n",
       "      <th>4</th>\n",
       "      <td>0.007144</td>\n",
       "      <td>0.014688</td>\n",
       "      <td>0.486408</td>\n",
       "      <td>0.132848</td>\n",
       "      <td>0.237271</td>\n",
       "      <td>0.629882</td>\n",
       "    </tr>\n",
       "  </tbody>\n",
       "</table>\n",
       "</div>"
      ],
      "text/plain": [
       "    Returns  Volatility  Sharpe Ratio  Mkt-RF Weight  SMB Weight  HML Weight\n",
       "0  0.030255    0.014479      2.089524       0.107860    0.231571    0.660569\n",
       "1  0.013485    0.014389      0.937169       0.106999    0.232948    0.660053\n",
       "2  0.013528    0.014664      0.922489       0.137697    0.234478    0.627825\n",
       "3  0.017594    0.014667      1.199595       0.140273    0.233366    0.626361\n",
       "4  0.007144    0.014688      0.486408       0.132848    0.237271    0.629882"
      ]
     },
     "execution_count": 8,
     "metadata": {},
     "output_type": "execute_result"
    }
   ],
   "source": [
    "# sætter vores portføljer som dataframe i pandas\n",
    "df = pd.DataFrame(portfolio)\n",
    "column_order = ['Returns', 'Volatility', 'Sharpe Ratio'] + [symbol+' Weight' for symbol in actives]\n",
    "df = df[column_order]\n",
    "\n",
    "df.head() # Porteføljer ud fra 60 måneders interval\n",
    "          # ie. portfølje '0' har return, vol og sharpe ud fra måned 1 - 60\n",
    "          # portfølje '1' har således overstående ud fra måned 2 - 61 ovs."
   ]
  },
  {
   "cell_type": "code",
   "execution_count": 9,
   "metadata": {},
   "outputs": [
    {
     "data": {
      "text/plain": [
       "0.21371972816610146"
      ]
     },
     "execution_count": 9,
     "metadata": {},
     "output_type": "execute_result"
    }
   ],
   "source": [
    "df['Sharpe Ratio'].mean()"
   ]
  },
  {
   "cell_type": "code",
   "execution_count": 10,
   "metadata": {},
   "outputs": [
    {
     "data": {
      "text/plain": [
       "438"
      ]
     },
     "execution_count": 10,
     "metadata": {},
     "output_type": "execute_result"
    }
   ],
   "source": [
    "len(df)"
   ]
  },
  {
   "cell_type": "code",
   "execution_count": null,
   "metadata": {},
   "outputs": [],
   "source": []
  }
 ],
 "metadata": {
  "kernelspec": {
   "display_name": "Python 3",
   "language": "python",
   "name": "python3"
  },
  "language_info": {
   "codemirror_mode": {
    "name": "ipython",
    "version": 3
   },
   "file_extension": ".py",
   "mimetype": "text/x-python",
   "name": "python",
   "nbconvert_exporter": "python",
   "pygments_lexer": "ipython3",
   "version": "3.6.5"
  }
 },
 "nbformat": 4,
 "nbformat_minor": 2
}
