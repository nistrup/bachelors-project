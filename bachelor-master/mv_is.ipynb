{
 "cells": [
  {
   "cell_type": "code",
   "execution_count": 57,
   "metadata": {},
   "outputs": [],
   "source": [
    "# Import af nødvendige packages\n",
    "import quandl\n",
    "import pandas as pd\n",
    "import numpy as np\n",
    "import matplotlib.pyplot as plt"
   ]
  },
  {
   "cell_type": "code",
   "execution_count": 58,
   "metadata": {},
   "outputs": [],
   "source": [
    "\"\"\" SETTINGS \"\"\"\n",
    "source = 'csv' # quandl eller csv\n",
    "data_interval = 'monthly' # daily, monthy eller yearly - Hvis Quandl = 'daily'\n",
    "selected = ['NoDur', 'Durbl', 'Manuf', 'Enrgy', 'HiTec', 'Telcm', 'Shops', 'Hlth', 'Utils', 'Other', 'Mkt'] # Angiv ønskede aktiver fra Quandl eller kolonner fra CSV-ark\n",
    "\n",
    "# Hvis CVS:\n",
    "file_name = '10 Industry Portfolios - Average Value Weighted Returns.CSV' # navn og file-exstention på data\n",
    "\n",
    "# Hvis Quandl\n",
    "date_range = ['2014-1-1', '2016-12-31'] # dato fra og med - dato til og med, format YYYY-MM-DD"
   ]
  },
  {
   "cell_type": "code",
   "execution_count": 59,
   "metadata": {},
   "outputs": [
    {
     "data": {
      "text/html": [
       "<div>\n",
       "<style scoped>\n",
       "    .dataframe tbody tr th:only-of-type {\n",
       "        vertical-align: middle;\n",
       "    }\n",
       "\n",
       "    .dataframe tbody tr th {\n",
       "        vertical-align: top;\n",
       "    }\n",
       "\n",
       "    .dataframe thead th {\n",
       "        text-align: right;\n",
       "    }\n",
       "</style>\n",
       "<table border=\"1\" class=\"dataframe\">\n",
       "  <thead>\n",
       "    <tr style=\"text-align: right;\">\n",
       "      <th></th>\n",
       "      <th>NoDur</th>\n",
       "      <th>Durbl</th>\n",
       "      <th>Manuf</th>\n",
       "      <th>Enrgy</th>\n",
       "      <th>HiTec</th>\n",
       "      <th>Telcm</th>\n",
       "      <th>Shops</th>\n",
       "      <th>Hlth</th>\n",
       "      <th>Utils</th>\n",
       "      <th>Other</th>\n",
       "      <th>Mkt</th>\n",
       "    </tr>\n",
       "    <tr>\n",
       "      <th>date</th>\n",
       "      <th></th>\n",
       "      <th></th>\n",
       "      <th></th>\n",
       "      <th></th>\n",
       "      <th></th>\n",
       "      <th></th>\n",
       "      <th></th>\n",
       "      <th></th>\n",
       "      <th></th>\n",
       "      <th></th>\n",
       "      <th></th>\n",
       "    </tr>\n",
       "  </thead>\n",
       "  <tbody>\n",
       "    <tr>\n",
       "      <th>196307</th>\n",
       "      <td>-0.74</td>\n",
       "      <td>-0.49</td>\n",
       "      <td>-1.68</td>\n",
       "      <td>2.02</td>\n",
       "      <td>-0.96</td>\n",
       "      <td>-0.50</td>\n",
       "      <td>-1.30</td>\n",
       "      <td>0.29</td>\n",
       "      <td>0.53</td>\n",
       "      <td>-1.88</td>\n",
       "      <td>-0.39</td>\n",
       "    </tr>\n",
       "    <tr>\n",
       "      <th>196308</th>\n",
       "      <td>4.62</td>\n",
       "      <td>6.30</td>\n",
       "      <td>5.95</td>\n",
       "      <td>3.68</td>\n",
       "      <td>4.89</td>\n",
       "      <td>4.04</td>\n",
       "      <td>6.15</td>\n",
       "      <td>9.31</td>\n",
       "      <td>3.95</td>\n",
       "      <td>5.24</td>\n",
       "      <td>5.07</td>\n",
       "    </tr>\n",
       "    <tr>\n",
       "      <th>196309</th>\n",
       "      <td>-1.95</td>\n",
       "      <td>-0.51</td>\n",
       "      <td>-1.03</td>\n",
       "      <td>-3.91</td>\n",
       "      <td>-0.14</td>\n",
       "      <td>2.09</td>\n",
       "      <td>0.69</td>\n",
       "      <td>-4.33</td>\n",
       "      <td>-2.77</td>\n",
       "      <td>-3.43</td>\n",
       "      <td>-1.57</td>\n",
       "    </tr>\n",
       "    <tr>\n",
       "      <th>196310</th>\n",
       "      <td>2.37</td>\n",
       "      <td>9.43</td>\n",
       "      <td>2.29</td>\n",
       "      <td>-0.61</td>\n",
       "      <td>8.00</td>\n",
       "      <td>3.11</td>\n",
       "      <td>0.19</td>\n",
       "      <td>3.09</td>\n",
       "      <td>-0.96</td>\n",
       "      <td>1.09</td>\n",
       "      <td>2.53</td>\n",
       "    </tr>\n",
       "    <tr>\n",
       "      <th>196311</th>\n",
       "      <td>-1.40</td>\n",
       "      <td>-5.11</td>\n",
       "      <td>0.03</td>\n",
       "      <td>-1.42</td>\n",
       "      <td>-0.56</td>\n",
       "      <td>3.89</td>\n",
       "      <td>-1.50</td>\n",
       "      <td>-1.92</td>\n",
       "      <td>-1.29</td>\n",
       "      <td>-0.04</td>\n",
       "      <td>-0.85</td>\n",
       "    </tr>\n",
       "  </tbody>\n",
       "</table>\n",
       "</div>"
      ],
      "text/plain": [
       "        NoDur  Durbl  Manuf  Enrgy  HiTec  Telcm  Shops  Hlth  Utils  Other  \\\n",
       "date                                                                          \n",
       "196307  -0.74  -0.49  -1.68   2.02  -0.96  -0.50  -1.30  0.29   0.53  -1.88   \n",
       "196308   4.62   6.30   5.95   3.68   4.89   4.04   6.15  9.31   3.95   5.24   \n",
       "196309  -1.95  -0.51  -1.03  -3.91  -0.14   2.09   0.69 -4.33  -2.77  -3.43   \n",
       "196310   2.37   9.43   2.29  -0.61   8.00   3.11   0.19  3.09  -0.96   1.09   \n",
       "196311  -1.40  -5.11   0.03  -1.42  -0.56   3.89  -1.50 -1.92  -1.29  -0.04   \n",
       "\n",
       "         Mkt  \n",
       "date          \n",
       "196307 -0.39  \n",
       "196308  5.07  \n",
       "196309 -1.57  \n",
       "196310  2.53  \n",
       "196311 -0.85  "
      ]
     },
     "execution_count": 59,
     "metadata": {},
     "output_type": "execute_result"
    }
   ],
   "source": [
    "# Træk af data fra Quandl\n",
    "if source == 'quandl':\n",
    "    quandl.ApiConfig.api_key = \"yTPaspmH6wqs9rAdSdmk\"\n",
    "    data = quandl.get_table('WIKI/PRICES', ticker = selected, qopts = {'columns': ['date', 'ticker', 'adj_close']},\n",
    "                            date = {'gte': date_range[0], 'lte': date_range[1]}, paginate=True)\n",
    "    clean = data.set_index('date')\n",
    "    table = clean.pivot(columns='ticker')\n",
    "    returns_data = table.pct_change()\n",
    "    \n",
    "# Træk af data fra CSV-fil (allerede procent-vis ændring)\n",
    "elif source == 'csv':\n",
    "    rf = pd.read_csv(file_name, delimiter = ',', header = 0, usecols = ['RF'])\n",
    "    data = pd.read_csv(file_name, delimiter = ',', header = 0, index_col = 'date', usecols = ['date'] + selected)\n",
    "    returns_data = np.subtract(data,rf)\n",
    "\n",
    "actives = list(returns_data.columns.values)\n",
    "returns_data.head() # Eksempel på den procentvise ændring"
   ]
  },
  {
   "cell_type": "code",
   "execution_count": 60,
   "metadata": {},
   "outputs": [],
   "source": [
    "port_returns = []\n",
    "port_volatility = []\n",
    "sharpe_ratio = []\n",
    "stock_weights = []"
   ]
  },
  {
   "cell_type": "code",
   "execution_count": 61,
   "metadata": {},
   "outputs": [],
   "source": [
    "new_returns_data = returns_data\n",
    "returns_monthly = new_returns_data\n",
    "returns_mean = returns_monthly.mean()\n",
    "cov_matrix = returns_monthly.cov()\n",
    "    \n",
    "# udregner profit, volatilitet og sharpe\n",
    "tl = np.dot(np.linalg.inv(cov_matrix), returns_mean)\n",
    "nl = np.dot(np.ones(11), np.dot(np.linalg.inv(cov_matrix), returns_mean))\n",
    "weights = tl / nl\n",
    "    \n",
    "# udregner afkast for måned T + 1 med de udregnede optimale vægte\n",
    "returns = np.dot(weights, returns_mean)\n",
    "variance = np.dot(weights, np.dot(cov_matrix, weights))\n",
    "sharpe = returns / np.sqrt(variance)\n",
    "\n",
    "# indsætter overstående udregninger i vektorerne\n",
    "sharpe_ratio.append(sharpe)\n",
    "port_returns.append(returns)\n",
    "port_volatility.append(variance)\n",
    "stock_weights.append(weights)"
   ]
  },
  {
   "cell_type": "code",
   "execution_count": 62,
   "metadata": {},
   "outputs": [],
   "source": [
    "# definerer portfolier som en sammensætning af overstående udregninger\n",
    "portfolio = {'Returns': port_returns,\n",
    "             'Variance': port_volatility,\n",
    "             'Sharpe Ratio': sharpe_ratio}"
   ]
  },
  {
   "cell_type": "code",
   "execution_count": 63,
   "metadata": {},
   "outputs": [],
   "source": [
    "# definerer de enkelte vægte af de valgte aktiver, HINT: de er 0.33 alle sammen da det er 1/N\n",
    "for i in range(len((actives))):\n",
    "    symbol = actives[i]\n",
    "    portfolio[symbol+' Weight'] = [Weight[i] for Weight in stock_weights]"
   ]
  },
  {
   "cell_type": "code",
   "execution_count": 64,
   "metadata": {},
   "outputs": [
    {
     "data": {
      "text/html": [
       "<div>\n",
       "<style scoped>\n",
       "    .dataframe tbody tr th:only-of-type {\n",
       "        vertical-align: middle;\n",
       "    }\n",
       "\n",
       "    .dataframe tbody tr th {\n",
       "        vertical-align: top;\n",
       "    }\n",
       "\n",
       "    .dataframe thead th {\n",
       "        text-align: right;\n",
       "    }\n",
       "</style>\n",
       "<table border=\"1\" class=\"dataframe\">\n",
       "  <thead>\n",
       "    <tr style=\"text-align: right;\">\n",
       "      <th></th>\n",
       "      <th>Returns</th>\n",
       "      <th>Variance</th>\n",
       "      <th>Sharpe Ratio</th>\n",
       "      <th>NoDur Weight</th>\n",
       "      <th>Durbl Weight</th>\n",
       "      <th>Manuf Weight</th>\n",
       "      <th>Enrgy Weight</th>\n",
       "      <th>HiTec Weight</th>\n",
       "      <th>Telcm Weight</th>\n",
       "      <th>Shops Weight</th>\n",
       "      <th>Hlth Weight</th>\n",
       "      <th>Utils Weight</th>\n",
       "      <th>Other Weight</th>\n",
       "      <th>Mkt Weight</th>\n",
       "    </tr>\n",
       "  </thead>\n",
       "  <tbody>\n",
       "    <tr>\n",
       "      <th>0</th>\n",
       "      <td>1.172912</td>\n",
       "      <td>30.963999</td>\n",
       "      <td>0.210784</td>\n",
       "      <td>1.4686</td>\n",
       "      <td>-0.013496</td>\n",
       "      <td>0.368831</td>\n",
       "      <td>1.168235</td>\n",
       "      <td>1.194824</td>\n",
       "      <td>0.670754</td>\n",
       "      <td>0.419163</td>\n",
       "      <td>0.585276</td>\n",
       "      <td>0.061795</td>\n",
       "      <td>0.703926</td>\n",
       "      <td>-5.627908</td>\n",
       "    </tr>\n",
       "  </tbody>\n",
       "</table>\n",
       "</div>"
      ],
      "text/plain": [
       "    Returns   Variance  Sharpe Ratio  NoDur Weight  Durbl Weight  \\\n",
       "0  1.172912  30.963999      0.210784        1.4686     -0.013496   \n",
       "\n",
       "   Manuf Weight  Enrgy Weight  HiTec Weight  Telcm Weight  Shops Weight  \\\n",
       "0      0.368831      1.168235      1.194824      0.670754      0.419163   \n",
       "\n",
       "   Hlth Weight  Utils Weight  Other Weight  Mkt Weight  \n",
       "0     0.585276      0.061795      0.703926   -5.627908  "
      ]
     },
     "execution_count": 64,
     "metadata": {},
     "output_type": "execute_result"
    }
   ],
   "source": [
    "# sætter vores portføljer som dataframe i pandas\n",
    "df = pd.DataFrame(portfolio)\n",
    "column_order = ['Returns', 'Variance', 'Sharpe Ratio'] + [symbol+' Weight' for symbol in actives]\n",
    "df = df[column_order]\n",
    "\n",
    "df.head() # Porteføljer ud fra 60 måneders interval\n",
    "          # ie. portfølje '0' har return, vol og sharpe ud fra måned 1 - 60\n",
    "          # portfølje '1' har således overstående ud fra måned 2 - 61 ovs."
   ]
  },
  {
   "cell_type": "code",
   "execution_count": 65,
   "metadata": {},
   "outputs": [
    {
     "data": {
      "text/plain": [
       "nan"
      ]
     },
     "execution_count": 65,
     "metadata": {},
     "output_type": "execute_result"
    }
   ],
   "source": [
    "df['Returns'].mean() / df['Returns'].std()"
   ]
  },
  {
   "cell_type": "code",
   "execution_count": null,
   "metadata": {},
   "outputs": [],
   "source": []
  },
  {
   "cell_type": "code",
   "execution_count": null,
   "metadata": {},
   "outputs": [],
   "source": []
  },
  {
   "cell_type": "code",
   "execution_count": null,
   "metadata": {},
   "outputs": [],
   "source": []
  },
  {
   "cell_type": "code",
   "execution_count": null,
   "metadata": {},
   "outputs": [],
   "source": []
  },
  {
   "cell_type": "code",
   "execution_count": null,
   "metadata": {},
   "outputs": [],
   "source": []
  },
  {
   "cell_type": "code",
   "execution_count": null,
   "metadata": {},
   "outputs": [],
   "source": []
  },
  {
   "cell_type": "code",
   "execution_count": null,
   "metadata": {},
   "outputs": [],
   "source": []
  },
  {
   "cell_type": "code",
   "execution_count": null,
   "metadata": {},
   "outputs": [],
   "source": []
  },
  {
   "cell_type": "code",
   "execution_count": null,
   "metadata": {},
   "outputs": [],
   "source": []
  },
  {
   "cell_type": "code",
   "execution_count": null,
   "metadata": {},
   "outputs": [],
   "source": []
  }
 ],
 "metadata": {
  "kernelspec": {
   "display_name": "Python 3",
   "language": "python",
   "name": "python3"
  },
  "language_info": {
   "codemirror_mode": {
    "name": "ipython",
    "version": 3
   },
   "file_extension": ".py",
   "mimetype": "text/x-python",
   "name": "python",
   "nbconvert_exporter": "python",
   "pygments_lexer": "ipython3",
   "version": "3.6.5"
  }
 },
 "nbformat": 4,
 "nbformat_minor": 2
}
