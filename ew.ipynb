{
 "cells": [
  {
   "cell_type": "code",
   "execution_count": 1,
   "metadata": {},
   "outputs": [],
   "source": [
    "# Import af nødvendige packages\n",
    "import quandl\n",
    "import pandas as pd\n",
    "import numpy as np\n",
    "import matplotlib.pyplot as plt"
   ]
  },
  {
   "cell_type": "code",
   "execution_count": 2,
   "metadata": {},
   "outputs": [],
   "source": [
    "\"\"\" SETTINGS \"\"\"\n",
    "source = 'csv' # quandl eller csv\n",
    "data_interval = 'monthly' # daily, monthy eller yearly - Hvis Quandl = 'daily'\n",
    "selected = ['SMB', 'HML', 'Mkt'] # Angiv ønskede aktiver fra Quandl eller kolonner fra CSV-ark\n",
    "\n",
    "# Hvis CVS:\n",
    "file_name = 'F-F_Research_Data_Factors.CSV' # navn og file-exstention på data\n",
    "\n",
    "# Hvis Quandl\n",
    "date_range = ['2014-1-1', '2016-12-31'] # dato fra og med - dato til og med, format YYYY-MM-DD"
   ]
  },
  {
   "cell_type": "code",
   "execution_count": 3,
   "metadata": {},
   "outputs": [
    {
     "data": {
      "text/html": [
       "<div>\n",
       "<style scoped>\n",
       "    .dataframe tbody tr th:only-of-type {\n",
       "        vertical-align: middle;\n",
       "    }\n",
       "\n",
       "    .dataframe tbody tr th {\n",
       "        vertical-align: top;\n",
       "    }\n",
       "\n",
       "    .dataframe thead th {\n",
       "        text-align: right;\n",
       "    }\n",
       "</style>\n",
       "<table border=\"1\" class=\"dataframe\">\n",
       "  <thead>\n",
       "    <tr style=\"text-align: right;\">\n",
       "      <th></th>\n",
       "      <th>SMB</th>\n",
       "      <th>HML</th>\n",
       "      <th>Mkt</th>\n",
       "    </tr>\n",
       "    <tr>\n",
       "      <th>date</th>\n",
       "      <th></th>\n",
       "      <th></th>\n",
       "      <th></th>\n",
       "    </tr>\n",
       "  </thead>\n",
       "  <tbody>\n",
       "    <tr>\n",
       "      <th>196307</th>\n",
       "      <td>-0.55</td>\n",
       "      <td>-0.81</td>\n",
       "      <td>-0.12</td>\n",
       "    </tr>\n",
       "    <tr>\n",
       "      <th>196308</th>\n",
       "      <td>-0.95</td>\n",
       "      <td>1.65</td>\n",
       "      <td>5.32</td>\n",
       "    </tr>\n",
       "    <tr>\n",
       "      <th>196309</th>\n",
       "      <td>-0.30</td>\n",
       "      <td>0.19</td>\n",
       "      <td>-1.30</td>\n",
       "    </tr>\n",
       "    <tr>\n",
       "      <th>196310</th>\n",
       "      <td>-0.54</td>\n",
       "      <td>-0.09</td>\n",
       "      <td>2.82</td>\n",
       "    </tr>\n",
       "    <tr>\n",
       "      <th>196311</th>\n",
       "      <td>-1.13</td>\n",
       "      <td>1.71</td>\n",
       "      <td>-0.58</td>\n",
       "    </tr>\n",
       "  </tbody>\n",
       "</table>\n",
       "</div>"
      ],
      "text/plain": [
       "         SMB   HML   Mkt\n",
       "date                    \n",
       "196307 -0.55 -0.81 -0.12\n",
       "196308 -0.95  1.65  5.32\n",
       "196309 -0.30  0.19 -1.30\n",
       "196310 -0.54 -0.09  2.82\n",
       "196311 -1.13  1.71 -0.58"
      ]
     },
     "execution_count": 3,
     "metadata": {},
     "output_type": "execute_result"
    }
   ],
   "source": [
    "# Træk af data fra Quandl\n",
    "if source == 'quandl':\n",
    "    quandl.ApiConfig.api_key = \"yTPaspmH6wqs9rAdSdmk\"\n",
    "    data = quandl.get_table('WIKI/PRICES', ticker = selected, qopts = {'columns': ['date', 'ticker', 'adj_close']},\n",
    "                            date = {'gte': date_range[0], 'lte': date_range[1]}, paginate=True)\n",
    "    clean = data.set_index('date')\n",
    "    table = clean.pivot(columns='ticker')\n",
    "    returns_data = table.pct_change()\n",
    "    \n",
    "# Træk af data fra CSV-fil (allerede procent-vis ændring)\n",
    "elif source == 'csv':\n",
    "    data = pd.read_csv(file_name, delimiter = ',', header = 0, index_col = 'date', usecols = ['date'] + selected)\n",
    "    returns_data = data\n",
    "\n",
    "actives = list(returns_data.columns.values)\n",
    "returns_data.head() # Eksempel på den procentvise ændring"
   ]
  },
  {
   "cell_type": "code",
   "execution_count": 4,
   "metadata": {},
   "outputs": [],
   "source": [
    "port_returns = []\n",
    "port_volatility = []\n",
    "sharpe_ratio = []\n",
    "stock_weights = []"
   ]
  },
  {
   "cell_type": "code",
   "execution_count": 16,
   "metadata": {},
   "outputs": [
    {
     "data": {
      "text/plain": [
       "array([0.33333333, 0.33333333, 0.33333333])"
      ]
     },
     "execution_count": 16,
     "metadata": {},
     "output_type": "execute_result"
    }
   ],
   "source": [
    "# sætter 1/N som vægt\n",
    "weights = [1 / len(actives)] * len(actives)\n",
    "weights /= np.sum(weights)\n",
    "weights"
   ]
  },
  {
   "cell_type": "code",
   "execution_count": 6,
   "metadata": {},
   "outputs": [],
   "source": [
    "# simulerer 1/N portfølje fra 1963-07 til 2004-11 som rollover med 60 måneders interval:\n",
    "for month in range(0, len(returns_data)):\n",
    "    if month + 60 >= len(returns_data):\n",
    "        break\n",
    "    \n",
    "    # Danner nyt data interval, returns og cov-matrix for hvert interval\n",
    "    new_returns_data = returns_data[month:month+59]\n",
    "    returns_monthly = new_returns_data\n",
    "    returns_mean = returns_monthly.mean()\n",
    "    cov_matrix = returns_monthly.cov()\n",
    "    \n",
    "    # udregner profit, volatilitet og sharpe NB: det risikofrie aktiver er 0% i dette tilfælde\n",
    "    returns = np.dot(weights, returns_mean)\n",
    "    volatility = np.sqrt(np.dot(weights.T, np.dot(cov_matrix, weights)))\n",
    "    sharpe = returns / volatility\n",
    "\n",
    "    # indsætter overstående udregninger i vektorerne\n",
    "    sharpe_ratio.append(sharpe)\n",
    "    port_returns.append(returns)\n",
    "    port_volatility.append(volatility)\n",
    "    stock_weights.append(weights)"
   ]
  },
  {
   "cell_type": "code",
   "execution_count": 7,
   "metadata": {},
   "outputs": [],
   "source": [
    "# definerer portfolier som en sammensætning af overstående udregninger\n",
    "portfolio = {'Returns': port_returns,\n",
    "             'Volatility': port_volatility,\n",
    "             'Sharpe Ratio': sharpe_ratio}"
   ]
  },
  {
   "cell_type": "code",
   "execution_count": 8,
   "metadata": {},
   "outputs": [],
   "source": [
    "# definerer de enkelte vægte af de valgte aktiver, HINT: de er 0.33 alle sammen da det er 1/N\n",
    "for i in range(len((actives))):\n",
    "    symbol = actives[i]\n",
    "    portfolio[symbol+' Weight'] = [Weight[i] for Weight in stock_weights]"
   ]
  },
  {
   "cell_type": "code",
   "execution_count": 12,
   "metadata": {},
   "outputs": [
    {
     "data": {
      "text/html": [
       "<div>\n",
       "<style scoped>\n",
       "    .dataframe tbody tr th:only-of-type {\n",
       "        vertical-align: middle;\n",
       "    }\n",
       "\n",
       "    .dataframe tbody tr th {\n",
       "        vertical-align: top;\n",
       "    }\n",
       "\n",
       "    .dataframe thead th {\n",
       "        text-align: right;\n",
       "    }\n",
       "</style>\n",
       "<table border=\"1\" class=\"dataframe\">\n",
       "  <thead>\n",
       "    <tr style=\"text-align: right;\">\n",
       "      <th></th>\n",
       "      <th>Returns</th>\n",
       "      <th>Volatility</th>\n",
       "      <th>Sharpe Ratio</th>\n",
       "      <th>SMB Weight</th>\n",
       "      <th>HML Weight</th>\n",
       "      <th>Mkt Weight</th>\n",
       "    </tr>\n",
       "  </thead>\n",
       "  <tbody>\n",
       "    <tr>\n",
       "      <th>0</th>\n",
       "      <td>0.798305</td>\n",
       "      <td>1.770234</td>\n",
       "      <td>0.450960</td>\n",
       "      <td>0.333333</td>\n",
       "      <td>0.333333</td>\n",
       "      <td>0.333333</td>\n",
       "    </tr>\n",
       "    <tr>\n",
       "      <th>1</th>\n",
       "      <td>0.815819</td>\n",
       "      <td>1.762329</td>\n",
       "      <td>0.462921</td>\n",
       "      <td>0.333333</td>\n",
       "      <td>0.333333</td>\n",
       "      <td>0.333333</td>\n",
       "    </tr>\n",
       "    <tr>\n",
       "      <th>2</th>\n",
       "      <td>0.792768</td>\n",
       "      <td>1.755364</td>\n",
       "      <td>0.451626</td>\n",
       "      <td>0.333333</td>\n",
       "      <td>0.333333</td>\n",
       "      <td>0.333333</td>\n",
       "    </tr>\n",
       "    <tr>\n",
       "      <th>3</th>\n",
       "      <td>0.829548</td>\n",
       "      <td>1.751179</td>\n",
       "      <td>0.473708</td>\n",
       "      <td>0.333333</td>\n",
       "      <td>0.333333</td>\n",
       "      <td>0.333333</td>\n",
       "    </tr>\n",
       "    <tr>\n",
       "      <th>4</th>\n",
       "      <td>0.859322</td>\n",
       "      <td>1.764341</td>\n",
       "      <td>0.487050</td>\n",
       "      <td>0.333333</td>\n",
       "      <td>0.333333</td>\n",
       "      <td>0.333333</td>\n",
       "    </tr>\n",
       "  </tbody>\n",
       "</table>\n",
       "</div>"
      ],
      "text/plain": [
       "    Returns  Volatility  Sharpe Ratio  SMB Weight  HML Weight  Mkt Weight\n",
       "0  0.798305    1.770234      0.450960    0.333333    0.333333    0.333333\n",
       "1  0.815819    1.762329      0.462921    0.333333    0.333333    0.333333\n",
       "2  0.792768    1.755364      0.451626    0.333333    0.333333    0.333333\n",
       "3  0.829548    1.751179      0.473708    0.333333    0.333333    0.333333\n",
       "4  0.859322    1.764341      0.487050    0.333333    0.333333    0.333333"
      ]
     },
     "execution_count": 12,
     "metadata": {},
     "output_type": "execute_result"
    }
   ],
   "source": [
    "# sætter vores portføljer som dataframe i pandas\n",
    "df = pd.DataFrame(portfolio)\n",
    "column_order = ['Returns', 'Volatility', 'Sharpe Ratio'] + [symbol+' Weight' for symbol in actives]\n",
    "df = df[column_order]\n",
    "\n",
    "df.head() # Porteføljer ud fra 60 måneders interval\n",
    "          # ie. portfølje '0' har return, vol og sharpe ud fra måned 1 - 60\n",
    "          # portfølje '1' har således overstående ud fra måned 2 - 61 ovs."
   ]
  },
  {
   "cell_type": "code",
   "execution_count": 13,
   "metadata": {},
   "outputs": [
    {
     "data": {
      "text/plain": [
       "0.31919943134394635"
      ]
     },
     "execution_count": 13,
     "metadata": {},
     "output_type": "execute_result"
    }
   ],
   "source": [
    "# finder mean-sharpe\n",
    "df['Sharpe Ratio'].mean()"
   ]
  },
  {
   "cell_type": "code",
   "execution_count": null,
   "metadata": {},
   "outputs": [],
   "source": []
  }
 ],
 "metadata": {
  "kernelspec": {
   "display_name": "Python 3",
   "language": "python",
   "name": "python3"
  },
  "language_info": {
   "codemirror_mode": {
    "name": "ipython",
    "version": 3
   },
   "file_extension": ".py",
   "mimetype": "text/x-python",
   "name": "python",
   "nbconvert_exporter": "python",
   "pygments_lexer": "ipython3",
   "version": "3.6.5"
  }
 },
 "nbformat": 4,
 "nbformat_minor": 2
}
